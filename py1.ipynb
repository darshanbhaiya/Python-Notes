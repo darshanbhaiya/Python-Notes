{
 "cells": [
  {
   "cell_type": "code",
   "execution_count": 1,
   "metadata": {},
   "outputs": [
    {
     "name": "stdout",
     "output_type": "stream",
     "text": [
      "hello world\n",
      "5\n",
      "hello world 7\n",
      "14\n"
     ]
    }
   ],
   "source": [
    "'''\n",
    "\n",
    "alt+down arrow key\n",
    "\n",
    "dynamically typed => type checking takes place at runtime or execution time.\n",
    "interpreted => compiler -> byte code -> intepreter (PVM) -> machine language\n",
    "\n",
    "'''\n",
    "\n",
    "\"\"\"\n",
    "\n",
    "multiple line comment\n",
    "\n",
    "\"\"\"\n",
    "# aisa kya dekh raha hai comment hai\n",
    "# ctrl + /\n",
    "# shift+alt+up/down => to copy line\n",
    "# alt + click => multiple click\n",
    "\n",
    "print(\"hello world\")\n",
    "print(5)\n",
    "print(\"hello world\",7)\n",
    "print(7*2)"
   ]
  },
  {
   "cell_type": "code",
   "execution_count": 2,
   "metadata": {},
   "outputs": [
    {
     "name": "stdout",
     "output_type": "stream",
     "text": [
      "hello \n",
      " \"darshan\" 's\n",
      "hello~6~7\n",
      "darshan69diwase\n",
      "darshan69\n",
      "diwase\n",
      "darshandiwase\n",
      "darshan diwase\n",
      "darshan is learning 'python' \n"
     ]
    }
   ],
   "source": [
    "# escape sequence character => \\n \\\" \\'\n",
    "# To insert characters that cannot be directly used in a string, we use an escape sequence character.\n",
    "\n",
    "# An escape sequence character is a backslash \\ followed by the character you want to insert.\n",
    "\n",
    "\n",
    "\n",
    "print(\"hello \\n \\\"darshan\\\" \\'s\")\n",
    "\n",
    "print(\"hello\",6,7,sep=\"~\") #seperator #default seperator is space\n",
    "\n",
    "print(\"darshan\",end=\"69\")  #default end is \\n\n",
    "print(\"diwase\")\n",
    "\n",
    "print(\"darshan\",end=\"69\\n\")\n",
    "print(\"diwase\")\n",
    "\n",
    "print(\"darshan\",end=\"\")\n",
    "print(\"diwase\")\n",
    "\n",
    "print(\"darshan\",end=\" \")\n",
    "print(\"diwase\")\n",
    "\n",
    "print(\"darshan is learning 'python' \")"
   ]
  },
  {
   "cell_type": "code",
   "execution_count": 3,
   "metadata": {},
   "outputs": [
    {
     "name": "stdout",
     "output_type": "stream",
     "text": [
      "<class 'int'>\n",
      "<class 'bool'>\n",
      "<class 'str'>\n",
      "<class 'NoneType'>\n",
      "<class 'str'>\n",
      "3\n",
      "darshan1\n"
     ]
    }
   ],
   "source": [
    "a=1\n",
    "b=True\n",
    "b1=False\n",
    "c=\"darshan\"\n",
    "d=None\n",
    "e=\"1\"\n",
    "a1=2\n",
    "\n",
    "print(type(a))\n",
    "print(type(b))\n",
    "print(type(c))\n",
    "print(type(d))\n",
    "print(type(e))\n",
    "\n",
    "print(a+a1)\n",
    "print(c+e) # concatenation of same data type"
   ]
  },
  {
   "cell_type": "code",
   "execution_count": 4,
   "metadata": {},
   "outputs": [
    {
     "name": "stdout",
     "output_type": "stream",
     "text": [
      "(2+3j)\n",
      "<class 'int'>\n",
      "<class 'float'>\n",
      "<class 'complex'>\n"
     ]
    }
   ],
   "source": [
    "# built in data types\n",
    "# every thing is object in python\n",
    "a=-2\n",
    "b=3.1\n",
    "c=complex(2,3)\n",
    "print(c)\n",
    "\n",
    "print(type(a))\n",
    "print(type(b))\n",
    "print(type(c))\n",
    "\n",
    "# sequenced data : list[] , tuple()\n",
    "#mapped data : dictionary{}"
   ]
  },
  {
   "cell_type": "code",
   "execution_count": 1,
   "metadata": {},
   "outputs": [
    {
     "name": "stdout",
     "output_type": "stream",
     "text": [
      "21\n",
      "9\n",
      "90\n",
      "2.5\n",
      "2\n",
      "3\n",
      "11390625\n"
     ]
    }
   ],
   "source": [
    "# Arithematic Operators\n",
    "print(15+6) #addition\n",
    "print(15-6) #subtraction\n",
    "print(15*6) #multiplication\n",
    "print(15/6) #division\n",
    "print(15//6) #floor division , quotient\n",
    "print(15%6) #modulo , remainder\n",
    "print(15**6) #exponential\n",
    "\n",
    "# \"=\" is not a conditional operator"
   ]
  },
  {
   "cell_type": "code",
   "execution_count": 6,
   "metadata": {},
   "outputs": [
    {
     "name": "stdout",
     "output_type": "stream",
     "text": [
      "12\n",
      "3\n",
      "7.4\n",
      "<class 'int'>\n",
      "<class 'float'>\n"
     ]
    }
   ],
   "source": [
    "# type casting => conversion of one data type into another data type is known as type casting\n",
    "# Python supports a wide variety of functions or methods like: int(), float(), str(), ord(), hex(), oct(), tuple(), set(), list(), dict(), etc. \n",
    "\n",
    "a=\"1\"\n",
    "b=\"2\"\n",
    "print(a+b)\n",
    "print(int(a)+int(b)) # throws error if string is not valid integer # explicit\n",
    "\n",
    "# explicit typecasting => by  programmer\n",
    "# implicit typecasting => by python (Python always converts smaller data types to larger data types to avoid the loss of data.)\n",
    "\n",
    "c=3.4\n",
    "d=4\n",
    "print(c+d) # implicit\n",
    "\n",
    "e=1\n",
    "print(type(e)) # implicit\n",
    "\n",
    "f=4.0\n",
    "print(type(f)) # implicit"
   ]
  },
  {
   "cell_type": "code",
   "execution_count": 1,
   "metadata": {},
   "outputs": [
    {
     "name": "stdout",
     "output_type": "stream",
     "text": [
      "darshan\n",
      "darshan\n",
      "12\n",
      "3\n",
      "3\n"
     ]
    }
   ],
   "source": [
    "# input() function returns string/character value \n",
    "a=input()\n",
    "print(a)\n",
    "\n",
    "a=input(\"Enter your name :\")\n",
    "print(a)\n",
    "\n",
    "x=input(\"Enter first no.:\")\n",
    "y=input(\"Enter second no. :\")\n",
    "print(x+y)\n",
    "print(int(x)+int(y))\n",
    "\n",
    "x=int(input(\"Enter first no.:\"))\n",
    "y=int(input(\"Enter second no. :\"))\n",
    "print(x+y)\n"
   ]
  },
  {
   "cell_type": "code",
   "execution_count": 3,
   "metadata": {},
   "outputs": [
    {
     "name": "stdout",
     "output_type": "stream",
     "text": [
      "hello , darshanbhaiya\n",
      "kutch nahi bas \"python\" padh raha hu\n",
      "kya karra bhai\n",
      "zindagi mai kutch maaze hai yaa nahi\n",
      "koi naa , mehenat kar sab theek hoga\n",
      "kab se yahi bol raa hu mai\n",
      "bharosa rakh khud pe\n",
      "great things takes time\n",
      "hmmmmmmmmm\n",
      "ha hasle bsdk\n",
      "\n",
      "d\n",
      "a\n",
      "r\n",
      "\n",
      "d a r s h a n "
     ]
    }
   ],
   "source": [
    "# strings => like a array of characters\n",
    "str1=\"darshan\"\n",
    "str2='bhaiya'\n",
    "print(\"hello , \"+str1+str2)\n",
    "\n",
    "print('kutch nahi bas \"python\" padh raha hu')\n",
    "\n",
    "# multiple line string\n",
    "str3='''kya karra bhai\n",
    "zindagi mai kutch maaze hai yaa nahi\n",
    "koi naa , mehenat kar sab theek hoga\n",
    "kab se yahi bol raa hu mai\n",
    "bharosa rakh khud pe'''\n",
    "print(str3)\n",
    "\n",
    "str4=\"\"\"great things takes time\n",
    "hmmmmmmmmm\n",
    "ha hasle bsdk\"\"\"\n",
    "print(str4)\n",
    "\n",
    "\n",
    "\n",
    "print()\n",
    "print(str1[0])\n",
    "print(str1[1])\n",
    "print(str1[2])\n",
    "# print(str1[7]) #string index out of range\n",
    "\n",
    "print()\n",
    "# let's use a for loop\n",
    "for character in str1:\n",
    "    print(character,end=\" \")"
   ]
  },
  {
   "cell_type": "code",
   "execution_count": 9,
   "metadata": {},
   "outputs": [
    {
     "name": "stdout",
     "output_type": "stream",
     "text": [
      "13\n",
      "\n",
      "darshan\n",
      "darshan\n",
      "darshan,harry\n",
      "\n",
      "rshan,h\n",
      "dars\n",
      "han,harry\n",
      "\n",
      "darshan,ha\n",
      "darshan,ha\n",
      "darshan,ha\n",
      "output : \n",
      "output : r\n"
     ]
    }
   ],
   "source": [
    "str=\"darshan,harry\"\n",
    "print(len(str))\n",
    "\n",
    "# string slicing []\n",
    "print()\n",
    "print(str[0:7]) #last one is not counted and first one is #it starts from zero , so we can see seven characters\n",
    "print(str[:7])  #automatically starts from zero\n",
    "print(str[0:])  #automatically goes till last\n",
    "\n",
    "print()\n",
    "print(str[2:9])\n",
    "print(str[:4])\n",
    "print(str[4:])\n",
    "\n",
    "print()\n",
    "print(str[0:-3]) # == [0,len()-3]\n",
    "print(str[0:len(str)-3])\n",
    "print(str[:-3])\n",
    "print(\"output :\",str[-2:-3]) # no output becoz ==[13-2,13-3]==[11,10]=>from 11 to 10 no sense\n",
    "print(\"output :\",str[-3:-2]) # no output becoz ==[13-3,13-2]==[10,11]=>from 10 to 11 no "
   ]
  },
  {
   "cell_type": "code",
   "execution_count": 5,
   "metadata": {},
   "outputs": [
    {
     "name": "stdout",
     "output_type": "stream",
     "text": [
      "7\n",
      "darshanBhaiya!\n",
      "DARSHANBHAIYA!\n",
      "darshanbhaiya!\n",
      "\n",
      "darshan\n",
      "!!!!darshan\n",
      "!!!!!dar!!shan\n",
      "!!dar#shan!!!!!\n",
      "\n",
      "darshan bhaiya\n",
      "\n",
      "meowboletohmeow\n",
      "darshanboletohdarshan meowboletohmeow\n"
     ]
    }
   ],
   "source": [
    "# string Methods\n",
    "a=\"darshan\"\n",
    "print(len(a))\n",
    "\n",
    "# strings are immutable means we can't change a part of string (but we can change whole string) => through the concept of overriding\n",
    "# a[2]=\"k\" # immutable\n",
    "b=\"darshanBhaiya!\"\n",
    "a=b\n",
    "print(a)\n",
    "print(a.upper()) # original string is not changed , new string is returned\n",
    "print(a.lower())\n",
    "\n",
    "print()\n",
    "# rstrip() removes any trailing characters\n",
    "c=\"darshan!!!!!\"\n",
    "print(c.rstrip(\"!\"))\n",
    "c=\"!!!!darshan!!!!!\" # only end(trailing , not leading) characters are removed\n",
    "print(c.rstrip(\"!\"))\n",
    "c=\"!!!!!dar!!shan!!!!!\"\n",
    "print(c.rstrip(\"!\"))\n",
    "c=\"!!dar#shan!!!!!\"\n",
    "print(c.rstrip(\"#\"))\n",
    "c=\"!!dar#shan!!!!#!\"\n",
    "# print(c.rstrip(\"!\",\"#\")) #expects at most one argument\n",
    "\n",
    "print()\n",
    "# strip() method removes any white spaces before and after the string\n",
    "d=\" darshan bhaiya \"\n",
    "print(d.strip())  \n",
    "\n",
    "print()\n",
    "# replace() replaces all occurences of a string with another string\n",
    "e=\"darshanboletohdarshan\"\n",
    "print(e.replace(\"darshan\",\"meow\"))\n",
    "k=e.replace(\"darshan\",\"meow\")\n",
    "print(e,k)"
   ]
  },
  {
   "cell_type": "code",
   "execution_count": 11,
   "metadata": {},
   "outputs": [
    {
     "name": "stdout",
     "output_type": "stream",
     "text": [
      "\n",
      "['darshan', 'bhaiya']\n",
      "['d', 'rsh', 'n bh', 'iy', '']\n",
      "['da', 'han bhaiya']\n",
      "\n",
      "Darshanbhaiya@\n",
      "\n",
      "7\n",
      "50\n",
      "                     darshan                      \n",
      "darshan\n",
      "7\n",
      "****darshan****\n",
      "\n",
      "3\n",
      "5\n",
      "7\n",
      "8\n",
      "\n",
      "True\n",
      "False\n",
      "False\n",
      "True\n",
      "True\n",
      "False\n"
     ]
    }
   ],
   "source": [
    "print()\n",
    "# slpit() returns seperated strings as list at the specified instance\n",
    "f=\"darshan bhaiya\"\n",
    "# print(f.split(\"\")) # gives error\n",
    "print(f.split(\" \"))\n",
    "print(f.split(\"a\"))\n",
    "print(f.split(\"rs\"))\n",
    "\n",
    "print()\n",
    "g=\"darshanBhaiya@\"\n",
    "print(g.capitalize())\n",
    "# first character uppercase and rest other lowercase \n",
    "\n",
    "print()\n",
    "h=\"darshan\"\n",
    "print(len(h))\n",
    "print(len(h.center(50))) # bring string between 50 character (string is included in it)\n",
    "print(h.center(50))\n",
    "print(h.center(5))\n",
    "print(len(h.center(5)))\n",
    "print(h.center(15,\"*\")) # padding character must be one to fill empty space # space is default\n",
    "\n",
    "print()\n",
    "# count() returns the number of times the  given value has occurred within the given string\n",
    "i=\"darshan is darshan no one can change darshan\"\n",
    "print(i.count(\"darshan\"))\n",
    "print(i.count(\"an\"))\n",
    "print(i.count(\" \"))\n",
    "print(i.count(\"a\"))\n",
    "\n",
    "print()\n",
    "#endswith() checks if the string ends with a given value (True/False)\n",
    "\n",
    "j=\"welcum darshan welcum!!!\"\n",
    "print(j.endswith(\"!!!\"))\n",
    "\n",
    "# we can also check weather a string ends with  a value in-between the string by providing start and end index position\n",
    "print(j.endswith(\"darshan\",8,14))\n",
    "print(j.endswith(\"darshan\",7,13))\n",
    "print(j.endswith(\"darshan\",7,14))\n",
    "print(j.endswith(\"shan\",7,14))   \n",
    "print(j.endswith(\"dar\",7,14))  # end karna chaahiye "
   ]
  },
  {
   "cell_type": "code",
   "execution_count": 2,
   "metadata": {},
   "outputs": [
    {
     "name": "stdout",
     "output_type": "stream",
     "text": [
      "8\n",
      "-1\n"
     ]
    },
    {
     "ename": "ValueError",
     "evalue": "substring not found",
     "output_type": "error",
     "traceback": [
      "\u001b[1;31m---------------------------------------------------------------------------\u001b[0m",
      "\u001b[1;31mValueError\u001b[0m                                Traceback (most recent call last)",
      "\u001b[1;32md:\\Languages\\Python\\py1.ipynb Cell 12\u001b[0m in \u001b[0;36m<cell line: 5>\u001b[1;34m()\u001b[0m\n\u001b[0;32m      <a href='vscode-notebook-cell:/d%3A/Languages/Python/py1.ipynb#X14sZmlsZQ%3D%3D?line=2'>3</a>\u001b[0m \u001b[39mprint\u001b[39m(a\u001b[39m.\u001b[39mfind(\u001b[39m\"\u001b[39m\u001b[39mis\u001b[39m\u001b[39m\"\u001b[39m))\n\u001b[0;32m      <a href='vscode-notebook-cell:/d%3A/Languages/Python/py1.ipynb#X14sZmlsZQ%3D%3D?line=3'>4</a>\u001b[0m \u001b[39mprint\u001b[39m(a\u001b[39m.\u001b[39mfind(\u001b[39m\"\u001b[39m\u001b[39miss\u001b[39m\u001b[39m\"\u001b[39m))\n\u001b[1;32m----> <a href='vscode-notebook-cell:/d%3A/Languages/Python/py1.ipynb#X14sZmlsZQ%3D%3D?line=4'>5</a>\u001b[0m \u001b[39mprint\u001b[39m(a\u001b[39m.\u001b[39;49mindex(\u001b[39m\"\u001b[39;49m\u001b[39miss\u001b[39;49m\u001b[39m\"\u001b[39;49m))\n",
      "\u001b[1;31mValueError\u001b[0m: substring not found"
     ]
    }
   ],
   "source": [
    "# find() searches for the first occurrence of the given value and return the index where it is present , if not returns -1\n",
    "a=\"darshan is bad boy. darshan is responsible\"\n",
    "print(a.find(\"is\"))\n",
    "print(a.find(\"iss\"))\n",
    "\n",
    "# index() is similar to find() but it raise an exception if value is not found in string\n",
    "print(a.index(\"iss\"))  \n"
   ]
  },
  {
   "cell_type": "code",
   "execution_count": 6,
   "metadata": {},
   "outputs": [
    {
     "name": "stdout",
     "output_type": "stream",
     "text": [
      "True\n",
      "False\n",
      "True\n",
      "False\n",
      "True\n",
      "True\n",
      "False\n",
      "True\n",
      "False\n",
      "True\n",
      "True\n",
      "False\n",
      "------\n",
      "False\n",
      "False\n",
      "True\n",
      "True\n",
      "True\n",
      "False\n",
      "bad bhaiya\n",
      "bad bhaiya , bad bhaiya ki jai\n",
      "badbhaiya , bad bhaiya ki jai\n"
     ]
    }
   ],
   "source": [
    "# isalnum() check if string is alpha numeric\n",
    "a=\"darshanbhaiya2003\"\n",
    "print(a.isalnum())\n",
    "\n",
    "a=\"#darshanbhaiya2003\"\n",
    "print(a.isalnum())\n",
    "\n",
    "# isalpha() check if string contains only alphabets\n",
    "a=\"darshanbhaiya\"\n",
    "print(a.isalpha())\n",
    "\n",
    "a=\"darshanbhaiya2003\"\n",
    "print(a.isalpha())\n",
    "\n",
    "# islower() check if string contains only lower case characters\n",
    "a=\"darshanbhaiya\"\n",
    "print(a.islower())\n",
    "\n",
    "a=\"#darshanbhaiya2003\"\n",
    "print(a.islower())\n",
    "\n",
    "a=\"darshanBhaiya2003\"\n",
    "print(a.islower())\n",
    "\n",
    "# isupper() check if string contains only upper case characters\n",
    "a=\"DARSHAN BHAIYA\"\n",
    "print(a.isupper())\n",
    "\n",
    "a=\"#DARSHANbhaiya2003\"\n",
    "print(a.isupper())\n",
    "\n",
    "a=\"#DARSHANBHAIYA2003\"\n",
    "print(a.isupper())\n",
    "\n",
    "\n",
    "# isprintable() check if all the characters are printable in given string (not printable \\n)\n",
    "a=\"#darshanbhaiya2003\"\n",
    "print(a.isprintable())\n",
    "\n",
    "a=\"darshanbhaiya2003\\n\"\n",
    "print(a.isprintable())\n",
    "\n",
    "# isspace() check if string contains \"only\" white spaces\n",
    "print(\"------\")\n",
    "a=\"darshanbhaiya\"\n",
    "print(a.isspace())\n",
    "a=\"darshan bhaiya\"\n",
    "print(a.isspace())\n",
    "a=\"  \"\n",
    "print(a.isspace())\n",
    "a=\"      \"\n",
    "print(a.isspace())\n",
    "\n",
    "# istitle() check if every first letter of each word is capitalized\n",
    "a=\"Darshan Bhaiya\"\n",
    "print(a.istitle())\n",
    "\n",
    "a=\"darshan bhaiya\"\n",
    "print(a.istitle())\n",
    "\n",
    "# replace() replace a part of original string with another string\n",
    "\n",
    "d=\"darshan bhaiya\"\n",
    "print(d.replace(\"darshan\",\"bad\"))\n",
    "\n",
    "d=\"darshan bhaiya , darshan bhaiya ki jai\"\n",
    "print(d.replace(\"darshan\",\"bad\")) \n",
    "\n",
    "d=\"darshanbhaiya , darshan bhaiya ki jai\"\n",
    "print(d.replace(\"darshan\",\"bad\"))\n",
    "\n"
   ]
  },
  {
   "cell_type": "code",
   "execution_count": 4,
   "metadata": {},
   "outputs": [
    {
     "name": "stdout",
     "output_type": "stream",
     "text": [
      "True\n",
      "False\n",
      "False\n",
      "False\n",
      "False\n",
      "True\n",
      "True\n",
      "#DARSHANbHAIYA2003\n",
      "He'S Name Is Darshan. Darshan Is Bad Boi\n"
     ]
    }
   ],
   "source": [
    "#startswith() checks if the string ststarts with a given value (True/False)\n",
    "\n",
    "j=\"welcum darshan welcum!!!\"\n",
    "print(j.startswith(\"wel\"))\n",
    "print(j.startswith(\"!!!\"))\n",
    "\n",
    "# we can also check weather a string starts with  a value in-between the string by providing start and end index position\n",
    "print(j.startswith(\"darshan\",8,14))\n",
    "print(j.startswith(\"darshan\",7,13))\n",
    "print(j.startswith(\"darshan\",7,11))\n",
    "print(j.startswith(\"da\",7,14))   \n",
    "print(j.startswith(\"dar\",7,14))  # start karna chaahiye \n",
    "\n",
    "# swapcase() change upper to lower and vice versa\n",
    "a=\"#darshanBhaiya2003\"\n",
    "print(a.swapcase())\n",
    "\n",
    "# title() capitalize first letter of each word\n",
    "a=\"He's name is Darshan. Darshan is bad boi\"\n",
    "print(a.title())"
   ]
  },
  {
   "cell_type": "code",
   "execution_count": 1,
   "metadata": {},
   "outputs": [
    {
     "name": "stdout",
     "output_type": "stream",
     "text": [
      "Yaay\n",
      "number is special\n",
      "11-20\n"
     ]
    }
   ],
   "source": [
    "# conditional operators : > , < , <= , >= , == ,!=\n",
    "# indentation\n",
    "a=10\n",
    "b=20\n",
    "\n",
    "if(a<b):\n",
    "    print(\"Yaay\")\n",
    "else:\n",
    "    print(\"Yooooo\")\n",
    "\n",
    "c=999\n",
    "if(c<0):\n",
    "    print(\"negative\")\n",
    "elif(c==0):\n",
    "    print(\"zero\")\n",
    "elif(c==999): \n",
    "    print(\"number is special\")   \n",
    "else:\n",
    "    print(\"positive\")    \n",
    "\n",
    "\n",
    "d=11\n",
    "\n",
    "if(d<0):\n",
    "    print(\"negative\")\n",
    "elif(d>0):\n",
    "    if(d<=10):\n",
    "        print(\"1-10\")\n",
    "    elif(d<=20):\n",
    "        print(\"11-20\")  \n",
    "    else:\n",
    "        print(\"greater than 20\")\n",
    "else:\n",
    "    print(\"zero\")              \n"
   ]
  },
  {
   "cell_type": "code",
   "execution_count": 2,
   "metadata": {},
   "outputs": [
    {
     "name": "stdout",
     "output_type": "stream",
     "text": [
      "00:02:14\n",
      "00\n",
      "02\n",
      "14\n",
      "<class 'str'>\n"
     ]
    }
   ],
   "source": [
    "import time\n",
    "timestamp=time.strftime('%H:%M:%S')\n",
    "print(timestamp)\n",
    "timestamp=time.strftime('%H')\n",
    "print(timestamp)\n",
    "timestamp=time.strftime('%M')\n",
    "print(timestamp)\n",
    "timestamp=time.strftime('%S')\n",
    "print(timestamp)\n",
    "\n",
    "print(type(timestamp))\n"
   ]
  },
  {
   "cell_type": "code",
   "execution_count": 3,
   "metadata": {},
   "outputs": [
    {
     "name": "stdout",
     "output_type": "stream",
     "text": [
      "3 is not 90\n",
      "4 is < 10\n"
     ]
    }
   ],
   "source": [
    "# match case statement => just like switch case statement\n",
    "# we need not need to write break in each case it just execute particular case\n",
    "# apan koi bhi case ke kitne bhi cases le sakte hai using if\n",
    "x=\"darshan\"\n",
    "x=3\n",
    "match x: \n",
    "    case 0:\n",
    "        print(\" x is zero\")\n",
    "    case 4:\n",
    "        print(\"case is 4\")    \n",
    "    case _ if x!=90:                  # default case\n",
    "        print(x ,\"is not 90\")    \n",
    "    case _ if x!=80:                  # default case\n",
    "        print(x ,\"is not 80\")    \n",
    "    case _:\n",
    "        print(x)\n",
    "\n",
    "# eg 2\n",
    "y=4\n",
    "match y: \n",
    "    # if y is zero\n",
    "    case 0:\n",
    "        print(\" x is zero\")\n",
    "    # case with if condition    \n",
    "    case 4 if y%2!=0:\n",
    "        print(\"y%2==0 and case is 4\")  \n",
    "    # empty case with if condition          \n",
    "    case _ if y<10:                  # default case\n",
    "        print(y,\"is < 10\")    \n",
    "    # default case will only be matched if the above cases were not matched\n",
    "    # so it is basicalyy just an else:\n",
    "    case _:\n",
    "        print(x)\n",
    "\n",
    "\n"
   ]
  },
  {
   "cell_type": "code",
   "execution_count": 1,
   "metadata": {},
   "outputs": [
    {
     "name": "stdout",
     "output_type": "stream",
     "text": [
      "d, a, r, s, this is something special\n",
      "h, a, n, orange\n",
      "o\n",
      "r\n",
      "a\n",
      "n\n",
      "g\n",
      "e\n",
      "red\n",
      "r\n",
      "e\n",
      "d\n",
      "pink\n",
      "p\n",
      "i\n",
      "n\n",
      "k\n",
      "yellow\n",
      "y\n",
      "e\n",
      "l\n",
      "l\n",
      "o\n",
      "w\n",
      "blue\n",
      "b\n",
      "l\n",
      "u\n",
      "e\n"
     ]
    }
   ],
   "source": [
    "# for loop can iterate over a sequence of iterable objects in python\n",
    "\n",
    "name=\"darshan\"\n",
    "for i in name:\n",
    "    print(i,end=\", \")\n",
    "    if(i==\"s\"):\n",
    "        print(\"this is something special\")\n",
    "\n",
    "\n",
    "colors=['orange','red','pink','yellow','blue']\n",
    "for color in colors:\n",
    "    print(color)\n",
    "    for i in color:\n",
    "        print(i)\n",
    "\n"
   ]
  },
  {
   "cell_type": "code",
   "execution_count": 2,
   "metadata": {},
   "outputs": [
    {
     "name": "stdout",
     "output_type": "stream",
     "text": [
      "0\n",
      "1\n",
      "2\n",
      "3\n",
      "4\n",
      "\n",
      "1\n",
      "2\n",
      "3\n",
      "4\n",
      "\n",
      "1\n",
      "2\n",
      "3\n",
      "4\n",
      "\n",
      "1\n",
      "4\n",
      "\n",
      "\n",
      "6\n",
      "4\n",
      "2\n"
     ]
    }
   ],
   "source": [
    "# range() => to use loop specific number of times\n",
    "\n",
    "for k in range(5): # 0 to 4 with increment by 1 == range(0,5,1)\n",
    "    print(k)\n",
    "\n",
    "print()\n",
    "\n",
    "for k in range(1,5): # 1 to 4\n",
    "    print(k)\n",
    "\n",
    "print()\n",
    "\n",
    "for k in range(1,5,1): # 1 to 4 with increment by 1\n",
    "    print(k)\n",
    "\n",
    "print()\n",
    "\n",
    "for k in range(1,5,3):\n",
    "    print(k)\n",
    "\n",
    "print()\n",
    "\n",
    "for k in range(1,5,-2): # prints nothing\n",
    "    print(k)\n",
    "\n",
    "print()\n",
    "\n",
    "for k in range(6,1,-2): \n",
    "    print(k)\n",
    "\n",
    "\n",
    "\n"
   ]
  },
  {
   "cell_type": "code",
   "execution_count": 3,
   "metadata": {},
   "outputs": [
    {
     "name": "stdout",
     "output_type": "stream",
     "text": [
      "5\n",
      "4\n",
      "3\n",
      "2\n",
      "1\n",
      "loop ends\n",
      "0\n",
      "\n",
      "2\n",
      "-1\n",
      "2\n",
      "65\n",
      "are we done !! , let's move\n"
     ]
    }
   ],
   "source": [
    "# while loop execute the statement while the condition is true\n",
    "count=5\n",
    "while(count>0):\n",
    "    print(count)\n",
    "    count=count-1\n",
    "print(\"loop ends\") \n",
    "print(count)  \n",
    "print()\n",
    "\n",
    "i=int(input(\"Enter a number : \"))\n",
    "while(i<=10):\n",
    "    i=int(input(\"Enter a number : \"))\n",
    "    print(i)\n",
    "print(\"are we done !! , let's move\")    \n"
   ]
  },
  {
   "cell_type": "code",
   "execution_count": 11,
   "metadata": {},
   "outputs": [
    {
     "name": "stdout",
     "output_type": "stream",
     "text": [
      "5\n",
      "4\n",
      "3\n",
      "2\n",
      "1\n",
      "inside else\n",
      "\n",
      "2\n",
      "4\n",
      "-1\n"
     ]
    }
   ],
   "source": [
    "# else with while loop => as soon as while loop condition becomes false, the interpreter comes out of the while loop and the else statement is executed\n",
    "count=5\n",
    "while(count>0):\n",
    "    print(count)\n",
    "    count=count-1\n",
    "else:\n",
    "\n",
    "    print(\"inside else\") \n",
    "\n",
    "# do-while statement is not in python => kam se kam ek baar execute hota hai irrespective of condition is true or not\n",
    "# also known as exit-controlled loop\n",
    "# emulate =>  kaar ke batana\n",
    "# d0 {\n",
    "#     loop body;\n",
    "# }while(condition);\n",
    "# or use infinite while loop with a break statement wrapped in an \"if\" statement that checks a given condition and breaks the iteration if that condition becomes true\n",
    "print()\n",
    "while True:\n",
    "    \n",
    "    i=int(input(\"Enter a positive number : \"))\n",
    "    print(i)\n",
    "\n",
    "    if not i>0:\n",
    "        break\n",
    "\n",
    "    "
   ]
  },
  {
   "cell_type": "code",
   "execution_count": 5,
   "metadata": {},
   "outputs": [
    {
     "name": "stdout",
     "output_type": "stream",
     "text": [
      "1\n",
      "2\n",
      "3\n",
      "4\n",
      "bacche iteration ko chod do\n",
      "6\n",
      "7\n",
      "8\n",
      "9\n",
      "10\n",
      "loop ko chod kar nikal le\n"
     ]
    }
   ],
   "source": [
    "# jump statements\n",
    "# break => nearest loop ko chod kar nikal jaao\n",
    "# continue => nearest loop ke bacche iteration ko chod kar nikal jaao \n",
    "\n",
    "# break statement terminates the very loop it lies within\n",
    "# continue statement skips the rest of the loop statements and causes the next iteration to occour\n",
    "for i in range(1,15):\n",
    "    if i==5:\n",
    "        print(\"bacche iteration ko chod do\")\n",
    "        continue\n",
    "    print(i)\n",
    "    if i==10:\n",
    "        print(\"loop ko chod kar nikal le\")\n",
    "        break\n",
    "\n"
   ]
  },
  {
   "cell_type": "code",
   "execution_count": 6,
   "metadata": {},
   "outputs": [
    {
     "name": "stdout",
     "output_type": "stream",
     "text": [
      "2\n",
      "4\n",
      "6\n",
      "8\n",
      "10\n",
      "12\n",
      "14\n",
      "16\n",
      "18\n",
      "20\n",
      "BYE\n"
     ]
    }
   ],
   "source": [
    "# pass Statement\n",
    "# The pass statement is used as a placeholder for future code.\n",
    "# When the pass statement is executed, nothing happens, but you avoid getting an error when empty code is not allowed.\n",
    "# Empty code is not allowed in loops, function definitions, class definitions, or in if statements.\n",
    "for i in range(1,21):\n",
    "    if(i%2!=0):\n",
    "        pass #empty \"if\" gives error\n",
    "    else:\n",
    "        print(i)\n",
    "print(\"BYE\")        "
   ]
  },
  {
   "cell_type": "code",
   "execution_count": 13,
   "metadata": {},
   "outputs": [
    {
     "name": "stdout",
     "output_type": "stream",
     "text": [
      "second number is greater\n",
      "first number is greater\n",
      "numbers are equal\n"
     ]
    }
   ],
   "source": [
    "# Functions\n",
    "# 1) built-in functions => defined and pre coded in python\n",
    "# 2) user-defined functions\n",
    "\n",
    "def function_name(parameters,arguments):\n",
    "    pass # just to say kutch nahi hai ismai\n",
    "\n",
    "def isGreater(a,b):\n",
    "    if(a>b):\n",
    "        print(\"first number is greater\")\n",
    "    elif(a<b):\n",
    "        print(\"second number is greater\")\n",
    "    else:\n",
    "        print(\"numbers are equal\")\n",
    "    \n",
    "isGreater(1,2)\n",
    "isGreater(4,3)\n",
    "isGreater(2,2)\n",
    "\n",
    "def isGreater(a,b):\n",
    "    pass"
   ]
  },
  {
   "cell_type": "code",
   "execution_count": 8,
   "metadata": {},
   "outputs": [
    {
     "name": "stdout",
     "output_type": "stream",
     "text": [
      "Average :  1.5\n",
      "Average :  2.5\n",
      "Average :  3.5\n",
      "Average :  3.0\n",
      "darshan darshan bhaiya\n",
      "bad darshan bhaiya\n",
      "bad darshan rain\n"
     ]
    }
   ],
   "source": [
    "# Types of arguments\n",
    "# 1) default argument => the function assumes default value if value is not provided in function call\n",
    "\n",
    "def average(a=1,b=2):\n",
    "    print(\"Average : \",(a+b)/2)\n",
    "average()#a=1,b=2\n",
    "average(2,3)#a=2,b=3\n",
    "average(5)#a=5,b=2\n",
    "average(b=5)#a=1,b=5\n",
    "\n",
    "def name(fname,mname=\"darshan\",lname=\"bhaiya\"):\n",
    "    print(fname,mname,lname)\n",
    "\n",
    "name(\"darshan\")\n",
    "name(\"bad\",\"darshan\")    \n",
    "name(\"bad\",\"darshan\",\"rain\")    "
   ]
  },
  {
   "cell_type": "code",
   "execution_count": 9,
   "metadata": {},
   "outputs": [
    {
     "name": "stdout",
     "output_type": "stream",
     "text": [
      "darshan bad rain\n",
      "bad darshan rain\n"
     ]
    }
   ],
   "source": [
    "# 2) keword arguments => aruments with key=value\n",
    "# interpreter recognizes the arguments by the parameter name\n",
    "# order in which the arguments are passed does not matter\n",
    "def name(fname,mname,lname):\n",
    "    print(fname,mname,lname)\n",
    "\n",
    "\n",
    "name(mname=\"bad\",lname=\"rain\",fname=\"darshan\") \n",
    "\n",
    "# 3) Required arguments =>pass argument in correct position order and no.of arguments passed should match with the actual function definition\n",
    "def name(fname,mname,lname):\n",
    "    print(fname,mname,lname)\n",
    "\n",
    "\n",
    "name(\"bad\",\"darshan\",\"rain\") "
   ]
  },
  {
   "cell_type": "code",
   "execution_count": 12,
   "metadata": {},
   "outputs": [
    {
     "name": "stdout",
     "output_type": "stream",
     "text": [
      "<class 'tuple'>\n",
      "average :  3.5\n",
      "<class 'dict'>\n",
      "bad darshan rain\n"
     ]
    }
   ],
   "source": [
    "# 4) variable-length argument => need to pass more arguments than those defined in the actual function\n",
    "# this can be done using variable length arguments\n",
    "# can be achieved in two ways\n",
    "# A) Arbitary arguments\n",
    "def average(*numbers):\n",
    "    print(type(numbers))\n",
    "    sum=0\n",
    "    for i in numbers:\n",
    "        sum=sum+i\n",
    "    print(\"average : \",sum/len(numbers))   \n",
    "\n",
    "average(1,2,3,4,5,6)   \n",
    "\n",
    "# B) Keyword Arbitary arguments\n",
    "def name(**name):\n",
    "    print(type(name))\n",
    "    print(name[\"fname\"],name[\"mname\"],name[\"lname\"])\n",
    "\n",
    "name(mname=\"darshan\",lname=\"rain\",fname=\"bad\")"
   ]
  },
  {
   "cell_type": "code",
   "execution_count": 11,
   "metadata": {},
   "outputs": [
    {
     "name": "stdout",
     "output_type": "stream",
     "text": [
      "<class 'tuple'>\n",
      "3.5\n",
      "hello, darshan bhaiya\n"
     ]
    }
   ],
   "source": [
    "# return statement\n",
    "\n",
    "def average(*numbers):\n",
    "    print(type(numbers))\n",
    "    sum=0\n",
    "    for i in numbers:\n",
    "        sum=sum+i\n",
    "    return sum/len(numbers) \n",
    "    return 7   # first return statement is considered\n",
    "\n",
    "a=average(1,2,3,4,5,6) \n",
    "print(a)\n",
    "\n",
    "\n",
    "def name(fname,lname):\n",
    "   return \"hello, \"+fname+\" \"+lname\n",
    "\n",
    "print(name(\"darshan\",\"bhaiya\"))"
   ]
  },
  {
   "cell_type": "code",
   "execution_count": null,
   "metadata": {},
   "outputs": [],
   "source": []
  },
  {
   "cell_type": "code",
   "execution_count": null,
   "metadata": {},
   "outputs": [],
   "source": []
  },
  {
   "cell_type": "code",
   "execution_count": null,
   "metadata": {},
   "outputs": [],
   "source": []
  }
 ],
 "metadata": {
  "kernelspec": {
   "display_name": "Python 3",
   "language": "python",
   "name": "python3"
  },
  "language_info": {
   "codemirror_mode": {
    "name": "ipython",
    "version": 3
   },
   "file_extension": ".py",
   "mimetype": "text/x-python",
   "name": "python",
   "nbconvert_exporter": "python",
   "pygments_lexer": "ipython3",
   "version": "3.10.5"
  },
  "orig_nbformat": 4
 },
 "nbformat": 4,
 "nbformat_minor": 2
}
